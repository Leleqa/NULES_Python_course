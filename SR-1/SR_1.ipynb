{
 "cells": [
  {
   "cell_type": "markdown",
   "id": "32546b53-6a05-43e9-8740-cd4175d38c68",
   "metadata": {},
   "source": [
    "<h1>Зчитування серійних даних з відладочної плати</h1>\n",
    "<h2>Самостійна робота з дисципліни \"Програмування Python\"</h2>\n",
    "<h2>Яловенко Володимир Вікторович. Кі-21012б</h2>"
   ]
  },
  {
   "cell_type": "markdown",
   "id": "4776af61-904e-4b21-88db-51a359745372",
   "metadata": {},
   "source": [
    "Маємо відладочну плату, яка налсилає через UART точки графіку у вигляді ASCII символів. Кожна точка надсилається у форматі 4 байтного числа(2 байти для цілої та 2 байти для дробової частини). Числа можуть бути від'ємними та відображаються у форматі 2's complement. \n",
    "Тож основні задачі:\n",
    "1. Зчитувати протягом секунди данні з серійного порта\n",
    "2. Перетворити їх у формат дробових десяткових чисел.\n",
    "3. Записувати ці числа у csv файл\n",
    "4. Зчитати данні з файлу та намалювати графік"
   ]
  },
  {
   "cell_type": "markdown",
   "id": "e8d922a7-a2af-421b-90e8-eb68de7a8c51",
   "metadata": {},
   "source": [
    "### Імпортування необхідних бібліотек \n",
    "У цій секції імпортуються бібліотеки:\n",
    "\n",
    "    serial для роботи з послідовним портом.\n",
    "    time для роботи з часовими функціями.\n",
    "    csv для запису даних у формат CSV.\n",
    "    matplotlib.pyplot для побудови графіків."
   ]
  },
  {
   "cell_type": "code",
   "execution_count": 34,
   "id": "367afe5b-d7de-4929-8740-da3eecbe1bb3",
   "metadata": {},
   "outputs": [],
   "source": [
    "import serial\n",
    "import time\n",
    "import csv\n",
    "import matplotlib.pyplot as plt"
   ]
  },
  {
   "cell_type": "markdown",
   "id": "c2c4d847-c2f2-454d-8e1e-c9ade0cc5da9",
   "metadata": {},
   "source": [
    "### Конфігурація послідовного порту\n",
    "У цьому коді налаштовується підключення до послідовного порту:\n",
    "\n",
    "    '/dev/ttyUSB0' — порт для підключення.\n",
    "    baudrate=115200 — швидкість передачі даних.\n",
    "    timeout=1 — максимальний час очікування на відповідь (у секундах)."
   ]
  },
  {
   "cell_type": "code",
   "execution_count": 35,
   "id": "938f806e-e58d-4d53-972c-1f4468eea8c9",
   "metadata": {},
   "outputs": [],
   "source": [
    "ser = serial.Serial('/dev/ttyUSB0', baudrate=115200, timeout=1)"
   ]
  },
  {
   "cell_type": "markdown",
   "id": "14c22f75-ec8e-46ab-aeda-9ce5f9864bd8",
   "metadata": {},
   "source": [
    "### Функція для зчитування символів\n",
    "\n",
    "    Ініціалізація:\n",
    "        Фіксується час початку роботи функції.\n",
    "        Створюється порожній список data_points для зберігання результатів.\n",
    "\n",
    "    Зчитування даних:\n",
    "        Очікується отримання байта 0xAA як роздільника.\n",
    "        Читається 9 символів ASCII після роздільника.\n",
    "        Перетворюються перші 4 символи у ціле число, останні 4 — у дробове.\n",
    "\n",
    "    Обробка та збереження результатів:\n",
    "        Перетворення чисел у підписані значення (signed decimal).\n",
    "        Збереження результатів у список та вивід їх на екран.\n",
    "        Запис даних у CSV файл."
   ]
  },
  {
   "cell_type": "code",
   "execution_count": 36,
   "id": "b6b832cc-3961-49f8-a285-4275ce489b98",
   "metadata": {},
   "outputs": [],
   "source": [
    "def read_symbols(duration=1, output_file=\"data.csv\"):\n",
    "    start_time = time.time()\n",
    "    data_points = []\n",
    "\n",
    "    print(f\"Recording data for {duration} second(s)...\")\n",
    "    while time.time() - start_time < duration:\n",
    "        if ser.read(1) == b'\\xAA':  # Wait for delimiter 0xAA\n",
    "            data = ser.read(9)  # Read the next 9 ASCII symbols\n",
    "            if len(data) == 9:\n",
    "                try:\n",
    "                    symbols = data.decode('ascii', errors='ignore')\n",
    "                    whole_udec = int(symbols[:4], 16)\n",
    "                    fract_udec = int(symbols[5:], 16)\n",
    "\n",
    "                    # Convert to signed decimal\n",
    "                    if whole_udec > 0x7FFF:\n",
    "                        whole_sdec = whole_udec - 0x10000\n",
    "                    else:\n",
    "                        whole_sdec = whole_udec\n",
    "\n",
    "                    fract_sdec = fract_udec / 65536.0\n",
    "                    result = whole_sdec + fract_sdec\n",
    "                    data_points.append(result)\n",
    "                    print(\"Received result:\", result)\n",
    "                except ValueError as e:\n",
    "                    print(\"Error decoding symbols:\", e)\n",
    "            else:\n",
    "                print(\"Error: Incomplete data received\")\n",
    "\n",
    "    # Save data to CSV file\n",
    "    with open(output_file, 'w', newline='') as f:\n",
    "        writer = csv.writer(f)\n",
    "        writer.writerow([\"Result\"])\n",
    "        writer.writerows([[dp] for dp in data_points])\n",
    "    print(f\"Data recorded in {output_file}\")\n",
    "\n",
    "    return output_file"
   ]
  },
  {
   "cell_type": "markdown",
   "id": "5ff69119-9c73-4cca-9bcd-52d6fa189a89",
   "metadata": {},
   "source": [
    "### Функція для побудови графіка\n",
    "\n",
    "    Зчитування даних із CSV:\n",
    "        Відкривається файл.\n",
    "        Пропускається заголовок та зчитуються значення у список results.\n",
    "\n",
    "    Побудова графіка:\n",
    "        Дані виводяться у вигляді лінійного графіка з маркерами.\n",
    "        Налаштовується назва, осі координат та сітка."
   ]
  },
  {
   "cell_type": "code",
   "execution_count": 37,
   "id": "a7c90ec0-383d-4e91-97c2-68dcbbce9458",
   "metadata": {},
   "outputs": [],
   "source": [
    "def plot_data(file_path):\n",
    "    # Read the data from CSV\n",
    "    results = []\n",
    "    with open(file_path, 'r') as f:\n",
    "        reader = csv.reader(f)\n",
    "        next(reader)  # Skip header\n",
    "        for row in reader:\n",
    "            results.append(float(row[0]))\n",
    "\n",
    "    # Plot the data\n",
    "    plt.figure(figsize=(10, 5))\n",
    "    plt.plot(results, marker='o', linestyle='-', color='b')\n",
    "    plt.title(\"Received Data\")\n",
    "    plt.xlabel(\"Sample Index\")\n",
    "    plt.ylabel(\"Result\")\n",
    "    plt.grid()\n",
    "    plt.show()"
   ]
  },
  {
   "cell_type": "markdown",
   "id": "bcdb025a-2428-40b5-9121-00da5943c9b5",
   "metadata": {},
   "source": [
    "### Головний блок виконання \n"
   ]
  },
  {
   "cell_type": "code",
   "execution_count": 38,
   "id": "57b780b8-94d5-466a-832d-06c4a65a8482",
   "metadata": {},
   "outputs": [
    {
     "name": "stdout",
     "output_type": "stream",
     "text": [
      "Recording data for 1 second(s)...\n",
      "Received result: 2.0\n",
      "Received result: 1.9021148681640625\n",
      "Received result: 1.6180267333984375\n",
      "Received result: 1.175567626953125\n",
      "Received result: 0.6180267333984375\n",
      "Received result: 0.0\n",
      "Received result: -0.6180267333984375\n",
      "Received result: -1.175567626953125\n",
      "Received result: -1.6180267333984375\n",
      "Received result: -1.9021148681640625\n",
      "Received result: -2.0\n",
      "Received result: -1.9021148681640625\n",
      "Received result: -1.6180267333984375\n",
      "Received result: -1.175567626953125\n",
      "Received result: -0.6180267333984375\n",
      "Received result: 0.0\n",
      "Received result: 0.6180267333984375\n",
      "Received result: 1.175567626953125\n",
      "Received result: 1.6180267333984375\n",
      "Received result: 1.9021148681640625\n",
      "Received result: 2.0\n",
      "Received result: 1.9021148681640625\n",
      "Received result: 1.6180267333984375\n",
      "Received result: 1.175567626953125\n",
      "Received result: 0.6180267333984375\n",
      "Received result: 0.0\n",
      "Received result: -0.6180267333984375\n",
      "Received result: -1.175567626953125\n",
      "Received result: -1.6180267333984375\n",
      "Received result: -1.9021148681640625\n",
      "Received result: -2.0\n",
      "Received result: -1.9021148681640625\n",
      "Received result: -1.6180267333984375\n",
      "Received result: -1.175567626953125\n",
      "Received result: -0.6180267333984375\n",
      "Received result: 0.0\n",
      "Received result: 0.6180267333984375\n",
      "Received result: 1.175567626953125\n",
      "Received result: 1.6180267333984375\n",
      "Received result: 1.9021148681640625\n",
      "Received result: 2.0\n",
      "Received result: 1.9021148681640625\n",
      "Received result: 1.6180267333984375\n",
      "Received result: 1.175567626953125\n",
      "Received result: 0.6180267333984375\n",
      "Received result: 0.0\n",
      "Received result: -0.6180267333984375\n",
      "Received result: -1.175567626953125\n",
      "Received result: -1.6180267333984375\n",
      "Received result: -1.9021148681640625\n",
      "Received result: -2.0\n",
      "Received result: -1.9021148681640625\n",
      "Received result: -1.6180267333984375\n",
      "Received result: -1.175567626953125\n",
      "Received result: -0.6180267333984375\n",
      "Received result: 0.0\n",
      "Received result: 0.6180267333984375\n",
      "Received result: 1.175567626953125\n",
      "Received result: 1.6180267333984375\n",
      "Received result: 1.9021148681640625\n",
      "Received result: 2.0\n",
      "Received result: 1.9021148681640625\n",
      "Received result: 1.6180267333984375\n",
      "Received result: 1.175567626953125\n",
      "Received result: 0.6180267333984375\n",
      "Received result: 0.0\n",
      "Received result: -0.6180267333984375\n",
      "Received result: -1.175567626953125\n",
      "Received result: -1.6180267333984375\n",
      "Received result: -1.9021148681640625\n",
      "Received result: -2.0\n",
      "Received result: -1.9021148681640625\n",
      "Received result: -1.6180267333984375\n",
      "Received result: -1.175567626953125\n",
      "Received result: -0.6180267333984375\n",
      "Received result: 0.0\n",
      "Received result: 0.6180267333984375\n",
      "Received result: 1.175567626953125\n",
      "Received result: 1.6180267333984375\n",
      "Received result: 1.9021148681640625\n",
      "Received result: 2.0\n",
      "Received result: 1.9021148681640625\n",
      "Received result: 1.6180267333984375\n",
      "Received result: 1.175567626953125\n",
      "Received result: 0.6180267333984375\n",
      "Received result: 0.0\n",
      "Received result: -0.6180267333984375\n",
      "Received result: -1.175567626953125\n",
      "Received result: -1.6180267333984375\n",
      "Received result: -1.9021148681640625\n",
      "Received result: -2.0\n",
      "Received result: -1.9021148681640625\n",
      "Received result: -1.6180267333984375\n",
      "Received result: -1.175567626953125\n",
      "Received result: -0.6180267333984375\n",
      "Received result: 0.0\n",
      "Received result: 0.6180267333984375\n",
      "Received result: 1.175567626953125\n",
      "Received result: 1.6180267333984375\n",
      "Received result: 1.9021148681640625\n",
      "Received result: 2.0\n",
      "Data recorded in data.csv\n"
     ]
    }
   ],
   "source": [
    "csv_file = read_symbols(duration=1, output_file=\"data.csv\")\n",
    "\n"
   ]
  },
  {
   "cell_type": "code",
   "execution_count": 39,
   "id": "c9f35ad2-8e89-460b-9482-b135f91893b1",
   "metadata": {},
   "outputs": [
    {
     "data": {
      "image/png": "[encoded data removed]",
      "text/plain": [
       "<Figure size 1000x500 with 1 Axes>"
      ]
     },
     "metadata": {},
     "output_type": "display_data"
    }
   ],
   "source": [
    "    plot_data(csv_file)\n"
   ]
  },
  {
   "cell_type": "markdown",
   "id": "c8cc472f-5619-4594-9bff-58a35e0082d0",
   "metadata": {},
   "source": [
    "## Висновки\n",
    "Я оцінив переваги (простоту роботи з файлами, малювання графіків) та недоліки (складність конвертування числових типів) мови програмування Pythob у обробці серійних даних. Оцінив перспективи використання цієї мови у вбудованих системах, що використовують Linux."
   ]
  }
 ],
 "metadata": {
  "kernelspec": {
   "display_name": "PLZWORK",
   "language": "python",
   "name": "plzwork"
  },
  "language_info": {
   "codemirror_mode": {
    "name": "ipython",
    "version": 3
   },
   "file_extension": ".py",
   "mimetype": "text/x-python",
   "name": "python",
   "nbconvert_exporter": "python",
   "pygments_lexer": "ipython3",
   "version": "3.13.0"
  }
 },
 "nbformat": 4,
 "nbformat_minor": 5
}
