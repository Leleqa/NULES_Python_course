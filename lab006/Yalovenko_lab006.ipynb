{
 "cells": [
  {
   "cell_type": "markdown",
   "id": "191f2842-1037-4f57-8677-70d4afa20631",
   "metadata": {},
   "source": [
    "# Яловенко Володимир Вікторович\n",
    "# Кі-21012б\n",
    "# Варіант 11"
   ]
  },
  {
   "cell_type": "markdown",
   "id": "6120d04a-4d15-478e-91a1-842ccc0faa58",
   "metadata": {},
   "source": [
    "**Імпортуємо бібліотеки**"
   ]
  },
  {
   "cell_type": "code",
   "execution_count": 141,
   "id": "e3fbba60-73a0-4c4a-a80f-03abc77e346c",
   "metadata": {},
   "outputs": [],
   "source": [
    "import random\n",
    "import matplotlib.pyplot as plt\n",
    "import numpy as np\n",
    "import pandas as pd"
   ]
  },
  {
   "cell_type": "markdown",
   "id": "ee2a3b76-211a-49f8-be0f-17231acf37f4",
   "metadata": {},
   "source": [
    "# 1. Створити програму для генерації довільного масиву із 54 цілих чисел, які не перевищують по модулю 128, з наступними властивостями:\n",
    "## 1.1. При кожному запуску програми масив повинен бути різним.\n",
    "## 1.2. Масив повинен містити 30 відсотків від’ємних елементів (розташованих в довільних місцях)"
   ]
  },
  {
   "cell_type": "code",
   "execution_count": 142,
   "id": "0ac514e4-ee13-4ef5-b015-0e4a9ca746a8",
   "metadata": {},
   "outputs": [],
   "source": [
    "def array_gen(array):\n",
    "    array_len = 54;\n",
    "    for i in range(0, array_len):\n",
    "        array.append(random.randint(0, 128))\n",
    "        negative_indices = np.random.choice(range(array_len), size=int(array_len * 0.3), replace=False)\n",
    "    for idx in negative_indices:\n",
    "        array[idx] = -abs(array[idx])\n",
    "    \n",
    "    return array\n",
    "array = []\n",
    "array_gen(array);\n"
   ]
  },
  {
   "cell_type": "markdown",
   "id": "ee8d21a5-b5ca-4b05-8e8a-03df57d3369b",
   "metadata": {},
   "source": [
    "# 2. Зберегти згенерований масив в файл."
   ]
  },
  {
   "cell_type": "code",
   "execution_count": 143,
   "id": "e9e387e9-6e3e-48cb-8eda-c6b71544ae83",
   "metadata": {},
   "outputs": [],
   "source": [
    "df = pd.DataFrame(array)\n",
    "df.to_csv(\"output.csv\", index=False)\n"
   ]
  },
  {
   "cell_type": "markdown",
   "id": "327ce6c4-aaa3-4e19-8e51-188de11feb99",
   "metadata": {},
   "source": [
    "# 3. Створити програму, яка зчитує із файлу згенерований масив попередньою програмою і виводить його на екран."
   ]
  },
  {
   "cell_type": "code",
   "execution_count": 144,
   "id": "7a4f0284-9234-4eff-80f4-d3611b6d097c",
   "metadata": {},
   "outputs": [
    {
     "name": "stdout",
     "output_type": "stream",
     "text": [
      "[ -21   90   79 -100  -63  -67  -71  104   25   69   50  100   -6   83\n",
      "  118   66   79   28   39  -96  -49   81   38  112    1    9  107   38\n",
      "   22  -35   85  -61   -9   64  -84   91    0  -55   66   98   26    8\n",
      " -122 -105   48  117  116   78   20  120  -20   85   74  103]\n"
     ]
    }
   ],
   "source": [
    "array_fromFile = pd.read_csv(\"output.csv\")\n",
    "array_list = array_fromFile.values.tolist()\n",
    "array_list = np.concatenate(array_list)\n",
    "print(array_list)"
   ]
  },
  {
   "cell_type": "markdown",
   "id": "c8950493-0790-475e-a39a-82d71c732e9f",
   "metadata": {},
   "source": [
    "# 4. Візуалізувати масив за допомогою стовпчастої горизонтальної діаграми. Виділити кольором мінімальний, другий мінімальний та третій мінімальний елементи, а також вказати ці значення на діаграмі. Виділити іншим кольором елементи із інтервалу [a,b], який задає користувач.\n",
    "# 5. Порахувати номер позиції третього мінімального елемента. "
   ]
  },
  {
   "cell_type": "code",
   "execution_count": 145,
   "id": "3624bae9-c3f4-4f1a-8ba6-c8cc38ec95b6",
   "metadata": {},
   "outputs": [
    {
     "name": "stdin",
     "output_type": "stream",
     "text": [
      "Введіть початок інтеравлу:  -15\n",
      "Введіть кінець інтеравлу:  78\n"
     ]
    },
    {
     "data": {
      "image/png": "[encoded data removed]",
      "text/plain": [
       "<Figure size 640x480 with 1 Axes>"
      ]
     },
     "metadata": {},
     "output_type": "display_data"
    },
    {
     "name": "stdout",
     "output_type": "stream",
     "text": [
      "Номер позиції третього мінімального елемента: 42\n"
     ]
    }
   ],
   "source": [
    "def visualize_array(array, a=None, b=None):\n",
    "    sorted_indices = np.argsort(array)\n",
    "    min_indices = sorted_indices[:3]\n",
    "    \n",
    "    colors = ['blue'] * len(array)\n",
    "    for i in min_indices:\n",
    "        colors[i] = 'red' \n",
    "    \n",
    "    if a is not None and b is not None:\n",
    "        interval_indices = np.where((array >= a) & (array <= b))[0]\n",
    "        for i in interval_indices:\n",
    "            colors[i] = 'orange'\n",
    "    \n",
    "    plt.barh(range(len(array)), array, color=colors)\n",
    "    for i in min_indices:\n",
    "        plt.text(array[i], i, str(array[i]), color='red')\n",
    "    plt.xlabel(\"Значення\")\n",
    "    plt.ylabel(\"Індекс\")\n",
    "    plt.title(\"Візуалізація масиву\")\n",
    "    plt.show()\n",
    "    print(f\"Номер позиції третього мінімального елемента: {min_indices[-3]}\")\n",
    "\n",
    "a = int(input(\"Введіть початок інтеравлу: \"))\n",
    "b = int(input(\"Введіть кінець інтеравлу: \"))\n",
    "visualize_array(array_list, a, b)"
   ]
  },
  {
   "cell_type": "markdown",
   "id": "35dddc15-ff42-4372-a4b0-958993773808",
   "metadata": {},
   "source": [
    "# 6. Порахувати кількість та суму елементів масиву, розташованих після 15 від’ємного елемента."
   ]
  },
  {
   "cell_type": "code",
   "execution_count": 146,
   "id": "cc4e814b-f6a3-4aa8-88c7-d9dd50b8c10e",
   "metadata": {
    "scrolled": true
   },
   "outputs": [
    {
     "name": "stdout",
     "output_type": "stream",
     "text": [
      "Кількість елементів: 39\n",
      "Сума елементів: 2531\n"
     ]
    }
   ],
   "source": [
    "def analyze_array(array):\n",
    "    sorted_array = sorted(array)\n",
    "    neg_count = 0\n",
    "    arr_count = 0\n",
    "    arr_sum = 0\n",
    "    \n",
    "    for i in sorted_array:\n",
    "        if i < 0:\n",
    "            neg_count += 1\n",
    "        if neg_count == 15:\n",
    "            for j in range(15, len(sorted_array)):\n",
    "                arr_count += 1\n",
    "                arr_sum += sorted_array[j]\n",
    "            break  \n",
    "\n",
    "    return arr_count, arr_sum\n",
    "\n",
    "                \n",
    "\n",
    "count_after_15th_neg, sum_after_15th_neg = analyze_array(array_list)\n",
    "print(f\"Кількість елементів: {count_after_15th_neg}\")\n",
    "print(f\"Сума елементів: {sum_after_15th_neg}\")\n",
    "\n"
   ]
  },
  {
   "cell_type": "markdown",
   "id": "1812229b-4e57-4e9a-895c-4f09c52ecb6b",
   "metadata": {},
   "source": [
    "# 7. Перетворити масив, видаливши всі елементи із інтервалу [a,b]. Елементи, що звільнилися в кінці масиву заповнити нулями. Вивести отриманий масив та його графічну діаграму на екран."
   ]
  },
  {
   "cell_type": "code",
   "execution_count": 147,
   "id": "02071572-e7fb-41a2-bf7d-77bc5705c6ba",
   "metadata": {},
   "outputs": [
    {
     "data": {
      "image/png": "[encoded data removed]",
      "text/plain": [
       "<Figure size 640x480 with 1 Axes>"
      ]
     },
     "metadata": {},
     "output_type": "display_data"
    },
    {
     "name": "stdout",
     "output_type": "stream",
     "text": [
      "Перетворений масив: [ -21   90   79 -100  -63  -67  -71  104  100   83  118   79  -96  -49\n",
      "   81  112  107  -35   85  -61  -84   91  -55   98 -122 -105  117  116\n",
      "  120  -20   85  103    0    0    0    0    0    0    0    0    0    0\n",
      "    0    0    0    0    0    0    0    0    0    0    0    0]\n"
     ]
    }
   ],
   "source": [
    "def transform_array(array, a, b):\n",
    "    filtered_array = np.where((array >= a) & (array <= b), 0, array)\n",
    "    non_zero_elements = filtered_array[filtered_array != 0]\n",
    "    new_array = np.concatenate((non_zero_elements, np.zeros(len(array) - len(non_zero_elements), dtype=int)))\n",
    "    \n",
    "    plt.barh(range(len(new_array)), new_array, color='blue')\n",
    "    plt.xlabel(\"Значення\")\n",
    "    plt.ylabel(\"Індекс\")\n",
    "    plt.title(\"Перетворений масив\")\n",
    "    plt.show()\n",
    "    \n",
    "    print(\"Перетворений масив:\", new_array)\n",
    "\n",
    "transform_array(array_list, a, b)"
   ]
  }
 ],
 "metadata": {
  "kernelspec": {
   "display_name": "my_juper",
   "language": "python",
   "name": "my_juper"
  },
  "language_info": {
   "codemirror_mode": {
    "name": "ipython",
    "version": 3
   },
   "file_extension": ".py",
   "mimetype": "text/x-python",
   "name": "python",
   "nbconvert_exporter": "python",
   "pygments_lexer": "ipython3",
   "version": "3.12.4"
  }
 },
 "nbformat": 4,
 "nbformat_minor": 5
}
